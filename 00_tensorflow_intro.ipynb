{
  "nbformat": 4,
  "nbformat_minor": 0,
  "metadata": {
    "colab": {
      "name": "00_tensorflow_intro.ipynb",
      "provenance": [],
      "collapsed_sections": [
        "VNoIOC4-uJAL",
        "Dhmb5bzfMXct",
        "4FD6eMqtPQ3A",
        "VTQ2k9QWUdim"
      ],
      "authorship_tag": "ABX9TyMMy03L4wOeV2cS35Gx5EUt",
      "include_colab_link": true
    },
    "kernelspec": {
      "name": "python3",
      "display_name": "Python 3"
    },
    "language_info": {
      "name": "python"
    }
  },
  "cells": [
    {
      "cell_type": "markdown",
      "metadata": {
        "id": "view-in-github",
        "colab_type": "text"
      },
      "source": [
        "<a href=\"https://colab.research.google.com/github/andreagolfari/TensorFlow_notes/blob/main/00_tensorflow_intro.ipynb\" target=\"_parent\"><img src=\"https://colab.research.google.com/assets/colab-badge.svg\" alt=\"Open In Colab\"/></a>"
      ]
    },
    {
      "cell_type": "markdown",
      "source": [
        "# Fundamentals of Tensorflow\n",
        "\n",
        "\n",
        "\n"
      ],
      "metadata": {
        "id": "Ejku3SKFxfGq"
      }
    },
    {
      "cell_type": "markdown",
      "source": [
        "* Introduction to tensors\n",
        "* Getting information from tensors\n",
        "* Tensors in NumPy\n",
        "* Speeding regular Python functions using @tf.function\n",
        "* Using GPUs or TPUs"
      ],
      "metadata": {
        "id": "08NxZUlmtj0q"
      }
    },
    {
      "cell_type": "markdown",
      "source": [
        "## Introduction to Tensors\n"
      ],
      "metadata": {
        "id": "VNoIOC4-uJAL"
      }
    },
    {
      "cell_type": "code",
      "source": [
        "# Import Tensorflow\n",
        "import tensorflow as tf\n",
        "print(tf.__version__)"
      ],
      "metadata": {
        "colab": {
          "base_uri": "https://localhost:8080/"
        },
        "id": "qIlebQAevEBx",
        "outputId": "f4852820-aa6c-4d56-cc9f-cf1c643cc5c4"
      },
      "execution_count": 4,
      "outputs": [
        {
          "output_type": "stream",
          "name": "stdout",
          "text": [
            "2.8.2\n"
          ]
        }
      ]
    },
    {
      "cell_type": "code",
      "source": [
        "# Create tensors with tf.constant()\n",
        "scalar = tf.constant(7)\n",
        "scalar"
      ],
      "metadata": {
        "colab": {
          "base_uri": "https://localhost:8080/"
        },
        "id": "J6aiM--ku7ZT",
        "outputId": "a0e2c709-19d6-4628-aa1a-b0bf47dc01f4"
      },
      "execution_count": 5,
      "outputs": [
        {
          "output_type": "execute_result",
          "data": {
            "text/plain": [
              "<tf.Tensor: shape=(), dtype=int32, numpy=7>"
            ]
          },
          "metadata": {},
          "execution_count": 5
        }
      ]
    },
    {
      "cell_type": "markdown",
      "source": [
        "Output says constant is a tensor with empty shape, data type integer 32 bits of precision, and in numpy its value is 7."
      ],
      "metadata": {
        "id": "REcD8yj5unu9"
      }
    },
    {
      "cell_type": "code",
      "source": [
        "# Check the number of dimensions of a tensor\n",
        "\n",
        "scalar.ndim"
      ],
      "metadata": {
        "colab": {
          "base_uri": "https://localhost:8080/"
        },
        "id": "XiIaNo7lFaB4",
        "outputId": "797ceabb-1e3f-4e8e-cab1-cfebacd78714"
      },
      "execution_count": 6,
      "outputs": [
        {
          "output_type": "execute_result",
          "data": {
            "text/plain": [
              "0"
            ]
          },
          "metadata": {},
          "execution_count": 6
        }
      ]
    },
    {
      "cell_type": "code",
      "source": [
        "# Create a vector\n",
        "\n",
        "vector = tf.constant([10, 10])\n",
        "vector"
      ],
      "metadata": {
        "colab": {
          "base_uri": "https://localhost:8080/"
        },
        "id": "6CvjxMhnFx3u",
        "outputId": "53bb17c6-667e-44a9-ae1b-e7c5eaf7a2e1"
      },
      "execution_count": 7,
      "outputs": [
        {
          "output_type": "execute_result",
          "data": {
            "text/plain": [
              "<tf.Tensor: shape=(2,), dtype=int32, numpy=array([10, 10], dtype=int32)>"
            ]
          },
          "metadata": {},
          "execution_count": 7
        }
      ]
    },
    {
      "cell_type": "code",
      "source": [
        "vector.ndim"
      ],
      "metadata": {
        "colab": {
          "base_uri": "https://localhost:8080/"
        },
        "id": "1dUauN9-GEbQ",
        "outputId": "87a75b2e-4ef5-43cb-9924-dd4aeab4e2c0"
      },
      "execution_count": 8,
      "outputs": [
        {
          "output_type": "execute_result",
          "data": {
            "text/plain": [
              "1"
            ]
          },
          "metadata": {},
          "execution_count": 8
        }
      ]
    },
    {
      "cell_type": "code",
      "source": [
        "# Create a matrix\n",
        "\n",
        "matrix = tf.constant([[8, 31],\n",
        "                     [12, 7]])\n",
        "matrix"
      ],
      "metadata": {
        "colab": {
          "base_uri": "https://localhost:8080/"
        },
        "id": "mXHWJMGaGJso",
        "outputId": "b299e0ac-8b13-4991-b14a-280ed870a068"
      },
      "execution_count": 9,
      "outputs": [
        {
          "output_type": "execute_result",
          "data": {
            "text/plain": [
              "<tf.Tensor: shape=(2, 2), dtype=int32, numpy=\n",
              "array([[ 8, 31],\n",
              "       [12,  7]], dtype=int32)>"
            ]
          },
          "metadata": {},
          "execution_count": 9
        }
      ]
    },
    {
      "cell_type": "code",
      "source": [
        "# Create a matrix specifying data type\n",
        "\n",
        "another_matrix = tf.constant([[8., 31.],\n",
        "                              [12., 7.],\n",
        "                              [64., 69.]], dtype = tf.float16)\n",
        "print(another_matrix)\n",
        "print(another_matrix.ndim)"
      ],
      "metadata": {
        "colab": {
          "base_uri": "https://localhost:8080/"
        },
        "id": "XZo5VWnBGi_O",
        "outputId": "50af731c-d151-4dac-e63c-58facc35bfdc"
      },
      "execution_count": 10,
      "outputs": [
        {
          "output_type": "stream",
          "name": "stdout",
          "text": [
            "tf.Tensor(\n",
            "[[ 8. 31.]\n",
            " [12.  7.]\n",
            " [64. 69.]], shape=(3, 2), dtype=float16)\n",
            "2\n"
          ]
        }
      ]
    },
    {
      "cell_type": "code",
      "source": [
        "# Create a tensor\n",
        "tensor = tf.constant([[[8, 31, 3],\n",
        "                       [12, 7, 4]],\n",
        "                      [[64, 69, 4],\n",
        "                       [36, 7, 98]],\n",
        "                      [[13, 59, 88],\n",
        "                       [49, 42, 6]]])\n",
        "tensor"
      ],
      "metadata": {
        "colab": {
          "base_uri": "https://localhost:8080/"
        },
        "id": "FN_73HPlJos9",
        "outputId": "84a56407-c279-4d24-e746-12fae53e7755"
      },
      "execution_count": 11,
      "outputs": [
        {
          "output_type": "execute_result",
          "data": {
            "text/plain": [
              "<tf.Tensor: shape=(3, 2, 3), dtype=int32, numpy=\n",
              "array([[[ 8, 31,  3],\n",
              "        [12,  7,  4]],\n",
              "\n",
              "       [[64, 69,  4],\n",
              "        [36,  7, 98]],\n",
              "\n",
              "       [[13, 59, 88],\n",
              "        [49, 42,  6]]], dtype=int32)>"
            ]
          },
          "metadata": {},
          "execution_count": 11
        }
      ]
    },
    {
      "cell_type": "code",
      "source": [
        "tensor.ndim"
      ],
      "metadata": {
        "colab": {
          "base_uri": "https://localhost:8080/"
        },
        "id": "xJMWKYJLLZX2",
        "outputId": "11220ef1-7657-44ad-e60d-8a85faf7bc67"
      },
      "execution_count": 12,
      "outputs": [
        {
          "output_type": "execute_result",
          "data": {
            "text/plain": [
              "3"
            ]
          },
          "metadata": {},
          "execution_count": 12
        }
      ]
    },
    {
      "cell_type": "markdown",
      "source": [
        "## Creating tensors with `tf.Variable`"
      ],
      "metadata": {
        "id": "Dhmb5bzfMXct"
      }
    },
    {
      "cell_type": "code",
      "source": [
        "# Create the same tensor by using tf.Variable\n",
        "changeable_tensor = tf.Variable([10, 10])\n",
        "unchangeable_tensor = tf.constant([10, 10])\n",
        "\n",
        "unchangeable_tensor, changeable_tensor"
      ],
      "metadata": {
        "colab": {
          "base_uri": "https://localhost:8080/"
        },
        "id": "lDxz4MDXLbtm",
        "outputId": "4d305f28-6c4d-4960-ffc8-618d1dbaba83"
      },
      "execution_count": 13,
      "outputs": [
        {
          "output_type": "execute_result",
          "data": {
            "text/plain": [
              "(<tf.Tensor: shape=(2,), dtype=int32, numpy=array([10, 10], dtype=int32)>,\n",
              " <tf.Variable 'Variable:0' shape=(2,) dtype=int32, numpy=array([10, 10], dtype=int32)>)"
            ]
          },
          "metadata": {},
          "execution_count": 13
        }
      ]
    },
    {
      "cell_type": "code",
      "source": [
        "# Make a change in a variable tensor\n",
        "changeable_tensor[0].assign(7)"
      ],
      "metadata": {
        "colab": {
          "base_uri": "https://localhost:8080/"
        },
        "id": "nbSLH6w7NnPO",
        "outputId": "9664a079-7b1a-4c37-8982-637c60b97f3d"
      },
      "execution_count": 14,
      "outputs": [
        {
          "output_type": "execute_result",
          "data": {
            "text/plain": [
              "<tf.Variable 'UnreadVariable' shape=(2,) dtype=int32, numpy=array([ 7, 10], dtype=int32)>"
            ]
          },
          "metadata": {},
          "execution_count": 14
        }
      ]
    },
    {
      "cell_type": "markdown",
      "source": [
        "Make a change in a constant tensor with \n",
        "\n",
        "`unchangeable_tensor[0].assign(7)` \n",
        "\n",
        "will fail"
      ],
      "metadata": {
        "id": "QD0qlAbGOtzX"
      }
    },
    {
      "cell_type": "markdown",
      "source": [
        "## Creating random tensors\n",
        "Random tensors are tensors of arbitrary size which contain random numbers."
      ],
      "metadata": {
        "id": "4FD6eMqtPQ3A"
      }
    },
    {
      "cell_type": "code",
      "source": [
        "## Creating random tensors with reproduceable values\n",
        "\n",
        "random_1 = tf.random.Generator.from_seed(11249) # set seed\n",
        "random_1 = random_1.normal(shape=(3,2))\n",
        "\n",
        "random_2 = tf.random.Generator.from_seed(11249) # set seed\n",
        "random_2 = random_2.normal(shape=(3,2))\n",
        "\n",
        "# Checking that they are equal\n",
        "random_1, random_2, random_1 == random_2"
      ],
      "metadata": {
        "colab": {
          "base_uri": "https://localhost:8080/"
        },
        "id": "g40tVCtHOSYl",
        "outputId": "a71ad724-9484-4726-db6c-acdcd705c848"
      },
      "execution_count": 15,
      "outputs": [
        {
          "output_type": "execute_result",
          "data": {
            "text/plain": [
              "(<tf.Tensor: shape=(3, 2), dtype=float32, numpy=\n",
              " array([[ 0.97845185,  0.42823294],\n",
              "        [-0.59423876, -1.5069418 ],\n",
              "        [ 0.17741887, -0.03283609]], dtype=float32)>,\n",
              " <tf.Tensor: shape=(3, 2), dtype=float32, numpy=\n",
              " array([[ 0.97845185,  0.42823294],\n",
              "        [-0.59423876, -1.5069418 ],\n",
              "        [ 0.17741887, -0.03283609]], dtype=float32)>,\n",
              " <tf.Tensor: shape=(3, 2), dtype=bool, numpy=\n",
              " array([[ True,  True],\n",
              "        [ True,  True],\n",
              "        [ True,  True]])>)"
            ]
          },
          "metadata": {},
          "execution_count": 15
        }
      ]
    },
    {
      "cell_type": "markdown",
      "source": [
        "## Shuffle the order of elements in a tensor "
      ],
      "metadata": {
        "id": "VTQ2k9QWUdim"
      }
    },
    {
      "cell_type": "code",
      "source": [
        "# Shuffle a tensor\n",
        "not_shuffled = tf.constant([[12, 8],\n",
        "                            [36, 69],\n",
        "                            [4, 88]])\n",
        "\n",
        "# tf.random.shuffle shuffles along the first dimension\n",
        "tf.random.shuffle(not_shuffled)\n",
        "\n",
        "\n",
        "# setting a seed\n",
        "tf.random.shuffle(not_shuffled, seed=11249)"
      ],
      "metadata": {
        "colab": {
          "base_uri": "https://localhost:8080/"
        },
        "id": "sxCyMtnESKL6",
        "outputId": "56bfb545-26f1-4047-aff8-ee5977ad2614"
      },
      "execution_count": 16,
      "outputs": [
        {
          "output_type": "execute_result",
          "data": {
            "text/plain": [
              "<tf.Tensor: shape=(3, 2), dtype=int32, numpy=\n",
              "array([[12,  8],\n",
              "       [36, 69],\n",
              "       [ 4, 88]], dtype=int32)>"
            ]
          },
          "metadata": {},
          "execution_count": 16
        }
      ]
    },
    {
      "cell_type": "code",
      "source": [
        "# Setting an operation level seed produces each time a different shuffle\n",
        "tf.random.shuffle(not_shuffled, seed=42)"
      ],
      "metadata": {
        "colab": {
          "base_uri": "https://localhost:8080/"
        },
        "id": "pfBLLkFHZqbl",
        "outputId": "53752f3c-ffa3-404b-8a74-772ab1c815bf"
      },
      "execution_count": 17,
      "outputs": [
        {
          "output_type": "execute_result",
          "data": {
            "text/plain": [
              "<tf.Tensor: shape=(3, 2), dtype=int32, numpy=\n",
              "array([[ 4, 88],\n",
              "       [36, 69],\n",
              "       [12,  8]], dtype=int32)>"
            ]
          },
          "metadata": {},
          "execution_count": 17
        }
      ]
    },
    {
      "cell_type": "code",
      "source": [
        "# Setting a global seed produces same shuffle every time\n",
        "tf.random.set_seed(11249)\n",
        "tf.random.shuffle(not_shuffled, seed=5)"
      ],
      "metadata": {
        "colab": {
          "base_uri": "https://localhost:8080/"
        },
        "id": "BylXpmW_aTI5",
        "outputId": "02b484e9-e11a-4c2d-9e89-3eeee1787fce"
      },
      "execution_count": 18,
      "outputs": [
        {
          "output_type": "execute_result",
          "data": {
            "text/plain": [
              "<tf.Tensor: shape=(3, 2), dtype=int32, numpy=\n",
              "array([[36, 69],\n",
              "       [ 4, 88],\n",
              "       [12,  8]], dtype=int32)>"
            ]
          },
          "metadata": {},
          "execution_count": 18
        }
      ]
    },
    {
      "cell_type": "markdown",
      "source": [
        "To obtain the shuffled tensors in the same order for reproducibility one needs to set both the global seed and the operation level seed.\n",
        "\n",
        "> Rule for reproducibility: set global seed and specify operation seed when shuffling tensors"
      ],
      "metadata": {
        "id": "fGYqUOh8a2ZE"
      }
    },
    {
      "cell_type": "markdown",
      "source": [
        "## Other ways to create tensors"
      ],
      "metadata": {
        "id": "ijDm2gZdeCwH"
      }
    },
    {
      "cell_type": "code",
      "source": [
        "# Create tensor of all ones\n",
        "tf.ones(shape = [4, 6])"
      ],
      "metadata": {
        "colab": {
          "base_uri": "https://localhost:8080/"
        },
        "id": "iudRDmj9dxpp",
        "outputId": "4be3d624-5930-4656-8f19-0f4f92003627"
      },
      "execution_count": 19,
      "outputs": [
        {
          "output_type": "execute_result",
          "data": {
            "text/plain": [
              "<tf.Tensor: shape=(4, 6), dtype=float32, numpy=\n",
              "array([[1., 1., 1., 1., 1., 1.],\n",
              "       [1., 1., 1., 1., 1., 1.],\n",
              "       [1., 1., 1., 1., 1., 1.],\n",
              "       [1., 1., 1., 1., 1., 1.]], dtype=float32)>"
            ]
          },
          "metadata": {},
          "execution_count": 19
        }
      ]
    },
    {
      "cell_type": "code",
      "source": [
        "# Create tensor of all zeros\n",
        "tf.zeros(shape = [4, 6])"
      ],
      "metadata": {
        "colab": {
          "base_uri": "https://localhost:8080/"
        },
        "id": "Try5s2NDeV9O",
        "outputId": "258c2857-0129-43c4-af79-bc53cf7a22c4"
      },
      "execution_count": 20,
      "outputs": [
        {
          "output_type": "execute_result",
          "data": {
            "text/plain": [
              "<tf.Tensor: shape=(4, 6), dtype=float32, numpy=\n",
              "array([[0., 0., 0., 0., 0., 0.],\n",
              "       [0., 0., 0., 0., 0., 0.],\n",
              "       [0., 0., 0., 0., 0., 0.],\n",
              "       [0., 0., 0., 0., 0., 0.]], dtype=float32)>"
            ]
          },
          "metadata": {},
          "execution_count": 20
        }
      ]
    },
    {
      "cell_type": "markdown",
      "source": [
        "### Turn Numpy arrays into tensors\n",
        "\n",
        "The main difference between NumPy arrays and TensorFlow tensors is that tensors can be run on a GPU with much faster computing. Otherwise they are very similar data structures."
      ],
      "metadata": {
        "id": "GTNLnxL-e5n1"
      }
    },
    {
      "cell_type": "code",
      "source": [
        "# Create Numpy array\n",
        "import numpy as np\n",
        "numpy_A = np.arange(1, 25, dtype = np.int32)\n",
        "numpy_A"
      ],
      "metadata": {
        "colab": {
          "base_uri": "https://localhost:8080/"
        },
        "id": "W7LJ9t4Oess_",
        "outputId": "2ef927e3-d624-4222-9919-abcac6f4ccab"
      },
      "execution_count": 21,
      "outputs": [
        {
          "output_type": "execute_result",
          "data": {
            "text/plain": [
              "array([ 1,  2,  3,  4,  5,  6,  7,  8,  9, 10, 11, 12, 13, 14, 15, 16, 17,\n",
              "       18, 19, 20, 21, 22, 23, 24], dtype=int32)"
            ]
          },
          "metadata": {},
          "execution_count": 21
        }
      ]
    },
    {
      "cell_type": "code",
      "source": [
        "# Turn the numpy array into a tensor\n",
        "A = tf.constant(numpy_A)\n",
        "A"
      ],
      "metadata": {
        "colab": {
          "base_uri": "https://localhost:8080/"
        },
        "id": "hvtYuiB0fjnS",
        "outputId": "db34ec09-bfcc-4e80-8f2c-3df089f53af0"
      },
      "execution_count": 22,
      "outputs": [
        {
          "output_type": "execute_result",
          "data": {
            "text/plain": [
              "<tf.Tensor: shape=(24,), dtype=int32, numpy=\n",
              "array([ 1,  2,  3,  4,  5,  6,  7,  8,  9, 10, 11, 12, 13, 14, 15, 16, 17,\n",
              "       18, 19, 20, 21, 22, 23, 24], dtype=int32)>"
            ]
          },
          "metadata": {},
          "execution_count": 22
        }
      ]
    },
    {
      "cell_type": "code",
      "source": [
        "# Turn the numpy array into a tensor specifying shape\n",
        "B = tf.constant(numpy_A, shape = (2,3,4))\n",
        "B"
      ],
      "metadata": {
        "colab": {
          "base_uri": "https://localhost:8080/"
        },
        "id": "Tty6QHamgBVa",
        "outputId": "e355ca04-dce6-4d76-d3b3-1f4f58a77690"
      },
      "execution_count": 23,
      "outputs": [
        {
          "output_type": "execute_result",
          "data": {
            "text/plain": [
              "<tf.Tensor: shape=(2, 3, 4), dtype=int32, numpy=\n",
              "array([[[ 1,  2,  3,  4],\n",
              "        [ 5,  6,  7,  8],\n",
              "        [ 9, 10, 11, 12]],\n",
              "\n",
              "       [[13, 14, 15, 16],\n",
              "        [17, 18, 19, 20],\n",
              "        [21, 22, 23, 24]]], dtype=int32)>"
            ]
          },
          "metadata": {},
          "execution_count": 23
        }
      ]
    },
    {
      "cell_type": "markdown",
      "source": [
        "## Getting information from tensors\n",
        "* Shape\n",
        "* Rank\n",
        "* Axis or Dimension\n",
        "* Size"
      ],
      "metadata": {
        "id": "Epre6WyUlI4Q"
      }
    },
    {
      "cell_type": "code",
      "source": [
        "# Access tensor shape\n",
        "B.shape"
      ],
      "metadata": {
        "colab": {
          "base_uri": "https://localhost:8080/"
        },
        "id": "hM7bQTqySJob",
        "outputId": "b2cb388d-c2d1-4101-fdd6-634a58c42289"
      },
      "execution_count": 24,
      "outputs": [
        {
          "output_type": "execute_result",
          "data": {
            "text/plain": [
              "TensorShape([2, 3, 4])"
            ]
          },
          "metadata": {},
          "execution_count": 24
        }
      ]
    },
    {
      "cell_type": "code",
      "source": [
        "# Access tensor rank\n",
        "B.ndim"
      ],
      "metadata": {
        "id": "z0C0W80ulHGO"
      },
      "execution_count": 24,
      "outputs": []
    }
  ]
}